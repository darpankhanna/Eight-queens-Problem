{
  "nbformat": 4,
  "nbformat_minor": 0,
  "metadata": {
    "colab": {
      "provenance": []
    },
    "kernelspec": {
      "name": "python3",
      "display_name": "Python 3"
    },
    "language_info": {
      "name": "python"
    }
  },
  "cells": [
    {
      "cell_type": "code",
      "execution_count": null,
      "metadata": {
        "colab": {
          "base_uri": "https://localhost:8080/"
        },
        "id": "WAWrgahXbdQj",
        "outputId": "e70aea13-dff3-4ad5-b552-736792be922f"
      },
      "outputs": [
        {
          "output_type": "stream",
          "name": "stdout",
          "text": [
            "Success Rate: 14.299999999999999%\n",
            "Failure Rate: 85.7%\n",
            "Average Steps for Success: 3.972027972027972\n",
            "Average Steps for Failure: 4.05950991831972\n"
          ]
        }
      ],
      "source": [
        "import random\n",
        "\n",
        "def generate_random_state(n):\n",
        "    return [random.randint(0, n-1) for _ in range(n)]\n",
        "\n",
        "def evaluate_state(state):\n",
        "    conflicts = 0\n",
        "    n = len(state)\n",
        "    for i in range(n):\n",
        "        for j in range(i+1, n):\n",
        "            if state[i] == state[j] or abs(state[i] - state[j]) == j - i:\n",
        "                conflicts += 1\n",
        "    return conflicts\n",
        "\n",
        "def steepest_ascent_hill_climbing(n, max_iterations):\n",
        "    success_count = 0\n",
        "    failure_count = 0\n",
        "    total_steps_success = 0\n",
        "    total_steps_failure = 0\n",
        "\n",
        "    for _ in range(max_iterations):\n",
        "        current_state = generate_random_state(n)\n",
        "        steps = 0\n",
        "\n",
        "        while evaluate_state(current_state) > 0:\n",
        "            steps += 1\n",
        "            neighbors = []\n",
        "\n",
        "            for i in range(n):\n",
        "                for j in range(n):\n",
        "                    if i != j and current_state[i] != j:\n",
        "                        new_state = current_state[:]\n",
        "                        new_state[i] = j\n",
        "                        neighbors.append(new_state)\n",
        "\n",
        "            best_neighbor = min(neighbors, key=evaluate_state)\n",
        "\n",
        "            if evaluate_state(best_neighbor) >= evaluate_state(current_state):\n",
        "                break\n",
        "\n",
        "            current_state = best_neighbor\n",
        "\n",
        "        if evaluate_state(current_state) == 0:\n",
        "            success_count += 1\n",
        "            total_steps_success += steps\n",
        "        else:\n",
        "            failure_count += 1\n",
        "            total_steps_failure += steps\n",
        "\n",
        "    success_rate = success_count / max_iterations\n",
        "    failure_rate = failure_count / max_iterations\n",
        "    avg_steps_success = total_steps_success / success_count if success_count > 0 else 0\n",
        "    avg_steps_failure = total_steps_failure / failure_count if failure_count > 0 else 0\n",
        "\n",
        "    return success_rate, failure_rate, avg_steps_success, avg_steps_failure\n",
        "\n",
        "n = 8  # 8-queens problem\n",
        "max_iterations = 1000\n",
        "success_rate, failure_rate, avg_steps_success, avg_steps_failure = steepest_ascent_hill_climbing(n, max_iterations)\n",
        "print(f\"Success Rate: {success_rate * 100}%\")\n",
        "print(f\"Failure Rate: {failure_rate * 100}%\")\n",
        "print(f\"Average Steps for Success: {avg_steps_success}\")\n",
        "print(f\"Average Steps for Failure: {avg_steps_failure}\")\n"
      ]
    },
    {
      "cell_type": "code",
      "source": [
        "import random\n",
        "import time\n",
        "\n",
        "def generate_random_state(n):\n",
        "    return [random.randint(0, n-1) for _ in range(n)]\n",
        "\n",
        "def evaluate_state(state):\n",
        "    conflicts = 0\n",
        "    n = len(state)\n",
        "    for i in range(n):\n",
        "        for j in range(i+1, n):\n",
        "            if state[i] == state[j] or abs(state[i] - state[j]) == j - i:\n",
        "                conflicts += 1\n",
        "    return conflicts\n",
        "\n",
        "def steepest_ascent_hill_climbing_with_sideways(n, max_iterations, max_sideways_moves, timeout_seconds):\n",
        "    success_count = 0\n",
        "    failure_count = 0\n",
        "    total_steps_success = 0\n",
        "    total_steps_failure = 0\n",
        "\n",
        "    for _ in range(max_iterations):\n",
        "        current_state = generate_random_state(n)\n",
        "        steps = 0\n",
        "        sideways_moves = 0\n",
        "\n",
        "        start_time = time.time()\n",
        "\n",
        "        while evaluate_state(current_state) > 0:\n",
        "            steps += 1\n",
        "            neighbors = []\n",
        "            best_conflicts = evaluate_state(current_state)\n",
        "\n",
        "            for i in range(n):\n",
        "                for j in range(n):\n",
        "                    if i != j and current_state[i] != j:\n",
        "                        new_state = current_state[:]\n",
        "                        new_state[i] = j\n",
        "                        neighbor_conflicts = evaluate_state(new_state)\n",
        "\n",
        "                        if neighbor_conflicts < best_conflicts:\n",
        "                            best_conflicts = neighbor_conflicts\n",
        "                            neighbors = [new_state]\n",
        "                        elif neighbor_conflicts == best_conflicts:\n",
        "                            neighbors.append(new_state)\n",
        "\n",
        "            if not neighbors or sideways_moves >= max_sideways_moves:\n",
        "                break\n",
        "\n",
        "            current_state = random.choice(neighbors)\n",
        "            sideways_moves += 1\n",
        "\n",
        "            if time.time() - start_time > timeout_seconds:\n",
        "                break\n",
        "\n",
        "        if evaluate_state(current_state) == 0:\n",
        "            success_count += 1\n",
        "            total_steps_success += steps\n",
        "        else:\n",
        "            failure_count += 1\n",
        "            total_steps_failure += steps\n",
        "\n",
        "    success_rate = success_count / max_iterations\n",
        "    failure_rate = failure_count / max_iterations\n",
        "    avg_steps_success = total_steps_success / success_count if success_count > 0 else 0\n",
        "    avg_steps_failure = total_steps_failure / failure_count if failure_count > 0 else 0\n",
        "\n",
        "    return success_rate, failure_rate, avg_steps_success, avg_steps_failure\n",
        "\n",
        "n = 8  # 8-queens problem\n",
        "max_iterations = 1000\n",
        "max_sideways_moves = 111\n",
        "timeout_seconds = 5  # Adjust this timeout as needed\n",
        "\n",
        "success_rate, failure_rate, avg_steps_success, avg_steps_failure = steepest_ascent_hill_climbing_with_sideways(n, max_iterations, max_sideways_moves, timeout_seconds)\n",
        "print(f\"Success Rate: {success_rate * 100}%\")\n",
        "print(f\"Failure Rate: {failure_rate * 100}%\")\n",
        "print(f\"Average Steps for Success: {avg_steps_success}\")\n",
        "print(f\"Average Steps for Failure: {avg_steps_failure}\")\n"
      ],
      "metadata": {
        "colab": {
          "base_uri": "https://localhost:8080/"
        },
        "id": "Ow1yW86abgvB",
        "outputId": "9b16407f-fb7f-4ae6-d54a-014424f91bf5"
      },
      "execution_count": null,
      "outputs": [
        {
          "output_type": "stream",
          "name": "stdout",
          "text": [
            "Success Rate: 70.7%\n",
            "Failure Rate: 29.299999999999997%\n",
            "Average Steps for Success: 19.571428571428573\n",
            "Average Steps for Failure: 89.86689419795222\n"
          ]
        }
      ]
    },
    {
      "cell_type": "code",
      "source": [],
      "metadata": {
        "id": "MHrDUr2mbiwj"
      },
      "execution_count": null,
      "outputs": []
    }
  ]
}